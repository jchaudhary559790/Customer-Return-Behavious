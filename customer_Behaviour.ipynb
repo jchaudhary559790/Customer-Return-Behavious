{
  "nbformat": 4,
  "nbformat_minor": 0,
  "metadata": {
    "colab": {
      "name": "customer Behaviour.ipynb",
      "provenance": [],
      "collapsed_sections": []
    },
    "kernelspec": {
      "name": "python3",
      "display_name": "Python 3"
    },
    "language_info": {
      "name": "python"
    }
  },
  "cells": [
    {
      "cell_type": "markdown",
      "metadata": {
        "id": "Y90G47iWs8Ju"
      },
      "source": [
        "# Customers send back a substantial part of the products that they purchase online. Return shipping is expensive for online platforms and return orders are said to reach 50% for certain industries and products. Nevertheless, free or inexpensive return shipping has become a customer expectation and de-facto standard in the fierce online competition on clothing, but shops have indirect ways to influence customer purchase behavior. For purchases where return seems likely, a shop could, for example, restrict payment options or display additional marketing communication."
      ]
    },
    {
      "cell_type": "markdown",
      "metadata": {
        "id": "Yru4n0PctNBG"
      },
      "source": [
        "Plan Of Attack"
      ]
    },
    {
      "cell_type": "markdown",
      "metadata": {
        "id": "gyCMe-Sjtc_O"
      },
      "source": [
        "Before we get into the process, I will give you a brief on what kind of steps we will get.\n",
        "\n",
        "- Gather the data\n",
        "- Pre-process the data\n",
        "- Explore the data\n",
        "- Interpret the result"
      ]
    },
    {
      "cell_type": "code",
      "metadata": {
        "id": "g8FcCI8Ftd2q"
      },
      "source": [
        "import pandas as pd"
      ],
      "execution_count": 1,
      "outputs": []
    },
    {
      "cell_type": "code",
      "metadata": {
        "colab": {
          "resources": {
            "http://localhost:8080/nbextensions/google.colab/files.js": {
              "data": "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",
              "ok": true,
              "headers": [
                [
                  "content-type",
                  "application/javascript"
                ]
              ],
              "status": 200,
              "status_text": ""
            }
          },
          "base_uri": "https://localhost:8080/",
          "height": 74
        },
        "id": "PmqF26aeuCw6",
        "outputId": "5ebd5f17-0a96-4ad6-f3fe-fcf2dc2ce134"
      },
      "source": [
        "from google.colab import files\n",
        "uploaded = files.upload()"
      ],
      "execution_count": 2,
      "outputs": [
        {
          "output_type": "display_data",
          "data": {
            "text/html": [
              "\n",
              "     <input type=\"file\" id=\"files-be1ebed8-2692-4039-b900-82edd23adff7\" name=\"files[]\" multiple disabled\n",
              "        style=\"border:none\" />\n",
              "     <output id=\"result-be1ebed8-2692-4039-b900-82edd23adff7\">\n",
              "      Upload widget is only available when the cell has been executed in the\n",
              "      current browser session. Please rerun this cell to enable.\n",
              "      </output>\n",
              "      <script src=\"/nbextensions/google.colab/files.js\"></script> "
            ],
            "text/plain": [
              "<IPython.core.display.HTML object>"
            ]
          },
          "metadata": {
            "tags": []
          }
        },
        {
          "output_type": "stream",
          "text": [
            "Saving TrainingData.csv to TrainingData (1).csv\n"
          ],
          "name": "stdout"
        }
      ]
    },
    {
      "cell_type": "code",
      "metadata": {
        "id": "_7qMHCqZuITd"
      },
      "source": [
        "import io\n",
        "df1 = pd.read_csv(io.BytesIO(uploaded['TrainingData.csv']))\n",
        "# Dataset is now stored in a Pandas Dataframe"
      ],
      "execution_count": 3,
      "outputs": []
    },
    {
      "cell_type": "code",
      "metadata": {
        "colab": {
          "base_uri": "https://localhost:8080/",
          "height": 205
        },
        "id": "8KI9HpA5uiw_",
        "outputId": "fa202dcd-05cc-444f-ecf7-6e609b89dda0"
      },
      "source": [
        "df1.head()"
      ],
      "execution_count": 4,
      "outputs": [
        {
          "output_type": "execute_result",
          "data": {
            "text/html": [
              "<div>\n",
              "<style scoped>\n",
              "    .dataframe tbody tr th:only-of-type {\n",
              "        vertical-align: middle;\n",
              "    }\n",
              "\n",
              "    .dataframe tbody tr th {\n",
              "        vertical-align: top;\n",
              "    }\n",
              "\n",
              "    .dataframe thead th {\n",
              "        text-align: right;\n",
              "    }\n",
              "</style>\n",
              "<table border=\"1\" class=\"dataframe\">\n",
              "  <thead>\n",
              "    <tr style=\"text-align: right;\">\n",
              "      <th></th>\n",
              "      <th>order_item_id</th>\n",
              "      <th>order_date</th>\n",
              "      <th>delivery_date</th>\n",
              "      <th>item_id</th>\n",
              "      <th>item_size</th>\n",
              "      <th>item_color</th>\n",
              "      <th>brand_id</th>\n",
              "      <th>item_price</th>\n",
              "      <th>user_id</th>\n",
              "      <th>user_title</th>\n",
              "      <th>user_dob</th>\n",
              "      <th>user_state</th>\n",
              "      <th>user_reg_date</th>\n",
              "      <th>return</th>\n",
              "    </tr>\n",
              "  </thead>\n",
              "  <tbody>\n",
              "    <tr>\n",
              "      <th>0</th>\n",
              "      <td>1</td>\n",
              "      <td>22-06-2016</td>\n",
              "      <td>27-06-2016</td>\n",
              "      <td>643</td>\n",
              "      <td>38</td>\n",
              "      <td>navy</td>\n",
              "      <td>30</td>\n",
              "      <td>49.9</td>\n",
              "      <td>30822</td>\n",
              "      <td>Mrs</td>\n",
              "      <td>17-04-1969</td>\n",
              "      <td>1013</td>\n",
              "      <td>23-06-2016</td>\n",
              "      <td>0</td>\n",
              "    </tr>\n",
              "    <tr>\n",
              "      <th>1</th>\n",
              "      <td>10</td>\n",
              "      <td>22-06-2016</td>\n",
              "      <td>27-06-2016</td>\n",
              "      <td>195</td>\n",
              "      <td>xxl</td>\n",
              "      <td>grey</td>\n",
              "      <td>46</td>\n",
              "      <td>19.9</td>\n",
              "      <td>30823</td>\n",
              "      <td>Mrs</td>\n",
              "      <td>22-04-1970</td>\n",
              "      <td>1001</td>\n",
              "      <td>15-03-2015</td>\n",
              "      <td>1</td>\n",
              "    </tr>\n",
              "    <tr>\n",
              "      <th>2</th>\n",
              "      <td>11</td>\n",
              "      <td>22-06-2016</td>\n",
              "      <td>05-07-2016</td>\n",
              "      <td>25</td>\n",
              "      <td>xxl</td>\n",
              "      <td>grey</td>\n",
              "      <td>5</td>\n",
              "      <td>79.9</td>\n",
              "      <td>30823</td>\n",
              "      <td>Mrs</td>\n",
              "      <td>22-04-1970</td>\n",
              "      <td>1001</td>\n",
              "      <td>15-03-2015</td>\n",
              "      <td>0</td>\n",
              "    </tr>\n",
              "    <tr>\n",
              "      <th>3</th>\n",
              "      <td>32</td>\n",
              "      <td>23-06-2016</td>\n",
              "      <td>26-06-2016</td>\n",
              "      <td>173</td>\n",
              "      <td>m</td>\n",
              "      <td>brown</td>\n",
              "      <td>20</td>\n",
              "      <td>19.9</td>\n",
              "      <td>17234</td>\n",
              "      <td>Mrs</td>\n",
              "      <td>09-01-1960</td>\n",
              "      <td>1013</td>\n",
              "      <td>17-02-2015</td>\n",
              "      <td>0</td>\n",
              "    </tr>\n",
              "    <tr>\n",
              "      <th>4</th>\n",
              "      <td>43</td>\n",
              "      <td>23-06-2016</td>\n",
              "      <td>26-06-2016</td>\n",
              "      <td>394</td>\n",
              "      <td>40</td>\n",
              "      <td>black</td>\n",
              "      <td>44</td>\n",
              "      <td>90.0</td>\n",
              "      <td>30827</td>\n",
              "      <td>Mrs</td>\n",
              "      <td>NaN</td>\n",
              "      <td>1006</td>\n",
              "      <td>09-02-2016</td>\n",
              "      <td>1</td>\n",
              "    </tr>\n",
              "  </tbody>\n",
              "</table>\n",
              "</div>"
            ],
            "text/plain": [
              "   order_item_id  order_date delivery_date  ...  user_state user_reg_date return\n",
              "0              1  22-06-2016    27-06-2016  ...        1013    23-06-2016      0\n",
              "1             10  22-06-2016    27-06-2016  ...        1001    15-03-2015      1\n",
              "2             11  22-06-2016    05-07-2016  ...        1001    15-03-2015      0\n",
              "3             32  23-06-2016    26-06-2016  ...        1013    17-02-2015      0\n",
              "4             43  23-06-2016    26-06-2016  ...        1006    09-02-2016      1\n",
              "\n",
              "[5 rows x 14 columns]"
            ]
          },
          "metadata": {
            "tags": []
          },
          "execution_count": 4
        }
      ]
    },
    {
      "cell_type": "code",
      "metadata": {
        "colab": {
          "resources": {
            "http://localhost:8080/nbextensions/google.colab/files.js": {
              "data": "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",
              "ok": true,
              "headers": [
                [
                  "content-type",
                  "application/javascript"
                ]
              ],
              "status": 200,
              "status_text": ""
            }
          },
          "base_uri": "https://localhost:8080/",
          "height": 74
        },
        "id": "a7wKBN2hulTk",
        "outputId": "e76d619d-1d8a-448d-a8af-50d3bcbc3168"
      },
      "source": [
        "from google.colab import files\n",
        "uploaded = files.upload()"
      ],
      "execution_count": 5,
      "outputs": [
        {
          "output_type": "display_data",
          "data": {
            "text/html": [
              "\n",
              "     <input type=\"file\" id=\"files-136f5652-2685-447b-8da9-2b9ba8917e0d\" name=\"files[]\" multiple disabled\n",
              "        style=\"border:none\" />\n",
              "     <output id=\"result-136f5652-2685-447b-8da9-2b9ba8917e0d\">\n",
              "      Upload widget is only available when the cell has been executed in the\n",
              "      current browser session. Please rerun this cell to enable.\n",
              "      </output>\n",
              "      <script src=\"/nbextensions/google.colab/files.js\"></script> "
            ],
            "text/plain": [
              "<IPython.core.display.HTML object>"
            ]
          },
          "metadata": {
            "tags": []
          }
        },
        {
          "output_type": "stream",
          "text": [
            "Saving TestingData.csv to TestingData (1).csv\n"
          ],
          "name": "stdout"
        }
      ]
    },
    {
      "cell_type": "code",
      "metadata": {
        "id": "Ck0YFNKcupbx"
      },
      "source": [
        "import io\n",
        "df2 = pd.read_csv(io.BytesIO(uploaded['TestingData.csv']))\n",
        "# Dataset is now stored in a Pandas Dataframe"
      ],
      "execution_count": 6,
      "outputs": []
    },
    {
      "cell_type": "code",
      "metadata": {
        "colab": {
          "base_uri": "https://localhost:8080/",
          "height": 205
        },
        "id": "ToyYhoJvu7Po",
        "outputId": "ea3b38a9-7298-4a1b-8ce8-719de84615fa"
      },
      "source": [
        "df2.head()"
      ],
      "execution_count": 7,
      "outputs": [
        {
          "output_type": "execute_result",
          "data": {
            "text/html": [
              "<div>\n",
              "<style scoped>\n",
              "    .dataframe tbody tr th:only-of-type {\n",
              "        vertical-align: middle;\n",
              "    }\n",
              "\n",
              "    .dataframe tbody tr th {\n",
              "        vertical-align: top;\n",
              "    }\n",
              "\n",
              "    .dataframe thead th {\n",
              "        text-align: right;\n",
              "    }\n",
              "</style>\n",
              "<table border=\"1\" class=\"dataframe\">\n",
              "  <thead>\n",
              "    <tr style=\"text-align: right;\">\n",
              "      <th></th>\n",
              "      <th>order_item_id</th>\n",
              "      <th>order_date</th>\n",
              "      <th>delivery_date</th>\n",
              "      <th>item_id</th>\n",
              "      <th>item_size</th>\n",
              "      <th>item_color</th>\n",
              "      <th>brand_id</th>\n",
              "      <th>item_price</th>\n",
              "      <th>user_id</th>\n",
              "      <th>user_title</th>\n",
              "      <th>user_dob</th>\n",
              "      <th>user_state</th>\n",
              "      <th>user_reg_date</th>\n",
              "    </tr>\n",
              "  </thead>\n",
              "  <tbody>\n",
              "    <tr>\n",
              "      <th>0</th>\n",
              "      <td>26</td>\n",
              "      <td>6/23/2016</td>\n",
              "      <td>6/26/2016</td>\n",
              "      <td>92</td>\n",
              "      <td>xl</td>\n",
              "      <td>turquoise</td>\n",
              "      <td>42</td>\n",
              "      <td>69.90</td>\n",
              "      <td>9392</td>\n",
              "      <td>Mrs</td>\n",
              "      <td>4/14/1962</td>\n",
              "      <td>1010</td>\n",
              "      <td>3/24/2016</td>\n",
              "    </tr>\n",
              "    <tr>\n",
              "      <th>1</th>\n",
              "      <td>28</td>\n",
              "      <td>6/23/2016</td>\n",
              "      <td>7/2/2016</td>\n",
              "      <td>2</td>\n",
              "      <td>xxl</td>\n",
              "      <td>green</td>\n",
              "      <td>2</td>\n",
              "      <td>19.90</td>\n",
              "      <td>9392</td>\n",
              "      <td>Mrs</td>\n",
              "      <td>4/14/1962</td>\n",
              "      <td>1010</td>\n",
              "      <td>3/24/2016</td>\n",
              "    </tr>\n",
              "    <tr>\n",
              "      <th>2</th>\n",
              "      <td>37</td>\n",
              "      <td>6/23/2016</td>\n",
              "      <td>6/26/2016</td>\n",
              "      <td>895</td>\n",
              "      <td>38</td>\n",
              "      <td>white</td>\n",
              "      <td>39</td>\n",
              "      <td>39.95</td>\n",
              "      <td>30826</td>\n",
              "      <td>Mrs</td>\n",
              "      <td>4/27/1964</td>\n",
              "      <td>1001</td>\n",
              "      <td>2/17/2015</td>\n",
              "    </tr>\n",
              "    <tr>\n",
              "      <th>3</th>\n",
              "      <td>56</td>\n",
              "      <td>6/23/2016</td>\n",
              "      <td>NaN</td>\n",
              "      <td>5</td>\n",
              "      <td>l</td>\n",
              "      <td>white</td>\n",
              "      <td>5</td>\n",
              "      <td>69.90</td>\n",
              "      <td>30828</td>\n",
              "      <td>Mrs</td>\n",
              "      <td>5/13/1966</td>\n",
              "      <td>1008</td>\n",
              "      <td>1/21/2016</td>\n",
              "    </tr>\n",
              "    <tr>\n",
              "      <th>4</th>\n",
              "      <td>65</td>\n",
              "      <td>6/23/2016</td>\n",
              "      <td>NaN</td>\n",
              "      <td>55</td>\n",
              "      <td>40</td>\n",
              "      <td>purple</td>\n",
              "      <td>1</td>\n",
              "      <td>89.90</td>\n",
              "      <td>22948</td>\n",
              "      <td>Mrs</td>\n",
              "      <td>3/11/1957</td>\n",
              "      <td>1001</td>\n",
              "      <td>2/17/2015</td>\n",
              "    </tr>\n",
              "  </tbody>\n",
              "</table>\n",
              "</div>"
            ],
            "text/plain": [
              "   order_item_id order_date delivery_date  ...   user_dob user_state user_reg_date\n",
              "0             26  6/23/2016     6/26/2016  ...  4/14/1962       1010     3/24/2016\n",
              "1             28  6/23/2016      7/2/2016  ...  4/14/1962       1010     3/24/2016\n",
              "2             37  6/23/2016     6/26/2016  ...  4/27/1964       1001     2/17/2015\n",
              "3             56  6/23/2016           NaN  ...  5/13/1966       1008     1/21/2016\n",
              "4             65  6/23/2016           NaN  ...  3/11/1957       1001     2/17/2015\n",
              "\n",
              "[5 rows x 13 columns]"
            ]
          },
          "metadata": {
            "tags": []
          },
          "execution_count": 7
        }
      ]
    },
    {
      "cell_type": "code",
      "metadata": {
        "colab": {
          "base_uri": "https://localhost:8080/"
        },
        "id": "yP1KLoRPu9r0",
        "outputId": "c9c7210c-0bde-4533-93e1-9141e2be4118"
      },
      "source": [
        "df1.info()"
      ],
      "execution_count": 8,
      "outputs": [
        {
          "output_type": "stream",
          "text": [
            "<class 'pandas.core.frame.DataFrame'>\n",
            "RangeIndex: 79945 entries, 0 to 79944\n",
            "Data columns (total 14 columns):\n",
            " #   Column         Non-Null Count  Dtype  \n",
            "---  ------         --------------  -----  \n",
            " 0   order_item_id  79945 non-null  int64  \n",
            " 1   order_date     79945 non-null  object \n",
            " 2   delivery_date  72509 non-null  object \n",
            " 3   item_id        79945 non-null  int64  \n",
            " 4   item_size      79945 non-null  object \n",
            " 5   item_color     79945 non-null  object \n",
            " 6   brand_id       79945 non-null  int64  \n",
            " 7   item_price     79945 non-null  float64\n",
            " 8   user_id        79945 non-null  int64  \n",
            " 9   user_title     79945 non-null  object \n",
            " 10  user_dob       72956 non-null  object \n",
            " 11  user_state     79945 non-null  int64  \n",
            " 12  user_reg_date  79945 non-null  object \n",
            " 13  return         79945 non-null  int64  \n",
            "dtypes: float64(1), int64(6), object(7)\n",
            "memory usage: 8.5+ MB\n"
          ],
          "name": "stdout"
        }
      ]
    },
    {
      "cell_type": "code",
      "metadata": {
        "colab": {
          "base_uri": "https://localhost:8080/"
        },
        "id": "W-06gkVHvGPJ",
        "outputId": "1915cf41-2cae-49b1-d262-87f97d057d21"
      },
      "source": [
        "df2.info()"
      ],
      "execution_count": 9,
      "outputs": [
        {
          "output_type": "stream",
          "text": [
            "<class 'pandas.core.frame.DataFrame'>\n",
            "RangeIndex: 20055 entries, 0 to 20054\n",
            "Data columns (total 13 columns):\n",
            " #   Column         Non-Null Count  Dtype  \n",
            "---  ------         --------------  -----  \n",
            " 0   order_item_id  20055 non-null  int64  \n",
            " 1   order_date     20055 non-null  object \n",
            " 2   delivery_date  18173 non-null  object \n",
            " 3   item_id        20055 non-null  int64  \n",
            " 4   item_size      20055 non-null  object \n",
            " 5   item_color     20055 non-null  object \n",
            " 6   brand_id       20055 non-null  int64  \n",
            " 7   item_price     20055 non-null  float64\n",
            " 8   user_id        20055 non-null  int64  \n",
            " 9   user_title     20055 non-null  object \n",
            " 10  user_dob       18319 non-null  object \n",
            " 11  user_state     20055 non-null  int64  \n",
            " 12  user_reg_date  20055 non-null  object \n",
            "dtypes: float64(1), int64(5), object(7)\n",
            "memory usage: 2.0+ MB\n"
          ],
          "name": "stdout"
        }
      ]
    },
    {
      "cell_type": "code",
      "metadata": {
        "colab": {
          "base_uri": "https://localhost:8080/"
        },
        "id": "JfJY80tOvIiD",
        "outputId": "43ce840f-fbd6-4751-96bc-04c194deee91"
      },
      "source": [
        "# Checking Null values in Train Set\n",
        "df1.isnull().sum()"
      ],
      "execution_count": 10,
      "outputs": [
        {
          "output_type": "execute_result",
          "data": {
            "text/plain": [
              "order_item_id       0\n",
              "order_date          0\n",
              "delivery_date    7436\n",
              "item_id             0\n",
              "item_size           0\n",
              "item_color          0\n",
              "brand_id            0\n",
              "item_price          0\n",
              "user_id             0\n",
              "user_title          0\n",
              "user_dob         6989\n",
              "user_state          0\n",
              "user_reg_date       0\n",
              "return              0\n",
              "dtype: int64"
            ]
          },
          "metadata": {
            "tags": []
          },
          "execution_count": 10
        }
      ]
    },
    {
      "cell_type": "code",
      "metadata": {
        "colab": {
          "base_uri": "https://localhost:8080/"
        },
        "id": "Il6HGm4Gvo0n",
        "outputId": "cfa69e70-ffe8-46d1-c049-53967b913324"
      },
      "source": [
        "\n",
        "# Checking Null values in Test Set\n",
        "df2.isnull().sum()"
      ],
      "execution_count": 11,
      "outputs": [
        {
          "output_type": "execute_result",
          "data": {
            "text/plain": [
              "order_item_id       0\n",
              "order_date          0\n",
              "delivery_date    1882\n",
              "item_id             0\n",
              "item_size           0\n",
              "item_color          0\n",
              "brand_id            0\n",
              "item_price          0\n",
              "user_id             0\n",
              "user_title          0\n",
              "user_dob         1736\n",
              "user_state          0\n",
              "user_reg_date       0\n",
              "dtype: int64"
            ]
          },
          "metadata": {
            "tags": []
          },
          "execution_count": 11
        }
      ]
    },
    {
      "cell_type": "code",
      "metadata": {
        "id": "Jqs9y9FyvsqY"
      },
      "source": [
        "df1 = df1.dropna()"
      ],
      "execution_count": 12,
      "outputs": []
    },
    {
      "cell_type": "code",
      "metadata": {
        "id": "tFO32gTEwRSB"
      },
      "source": [
        "df2 = df2.dropna()"
      ],
      "execution_count": 13,
      "outputs": []
    },
    {
      "cell_type": "code",
      "metadata": {
        "colab": {
          "base_uri": "https://localhost:8080/"
        },
        "id": "2qUplhxJwcR9",
        "outputId": "c3eabab8-c588-4bb8-d060-d1deebd92309"
      },
      "source": [
        "df1.isnull().sum()"
      ],
      "execution_count": 14,
      "outputs": [
        {
          "output_type": "execute_result",
          "data": {
            "text/plain": [
              "order_item_id    0\n",
              "order_date       0\n",
              "delivery_date    0\n",
              "item_id          0\n",
              "item_size        0\n",
              "item_color       0\n",
              "brand_id         0\n",
              "item_price       0\n",
              "user_id          0\n",
              "user_title       0\n",
              "user_dob         0\n",
              "user_state       0\n",
              "user_reg_date    0\n",
              "return           0\n",
              "dtype: int64"
            ]
          },
          "metadata": {
            "tags": []
          },
          "execution_count": 14
        }
      ]
    },
    {
      "cell_type": "code",
      "metadata": {
        "colab": {
          "base_uri": "https://localhost:8080/"
        },
        "id": "yGi0neDQweo5",
        "outputId": "6a7bb8dd-b5b8-4e32-abca-0b7254dfc8aa"
      },
      "source": [
        "df1.isnull().sum()"
      ],
      "execution_count": 15,
      "outputs": [
        {
          "output_type": "execute_result",
          "data": {
            "text/plain": [
              "order_item_id    0\n",
              "order_date       0\n",
              "delivery_date    0\n",
              "item_id          0\n",
              "item_size        0\n",
              "item_color       0\n",
              "brand_id         0\n",
              "item_price       0\n",
              "user_id          0\n",
              "user_title       0\n",
              "user_dob         0\n",
              "user_state       0\n",
              "user_reg_date    0\n",
              "return           0\n",
              "dtype: int64"
            ]
          },
          "metadata": {
            "tags": []
          },
          "execution_count": 15
        }
      ]
    },
    {
      "cell_type": "code",
      "metadata": {
        "colab": {
          "base_uri": "https://localhost:8080/"
        },
        "id": "GCMfpQ-bwgaf",
        "outputId": "affe5d74-a84a-4105-c0be-785e06c6a753"
      },
      "source": [
        "df1['item_color'].value_counts()\n",
        "import numpy as np\n",
        "\n",
        "print('Item_Type:\\n',df1['item_color'].value_counts())"
      ],
      "execution_count": 16,
      "outputs": [
        {
          "output_type": "stream",
          "text": [
            "Item_Type:\n",
            " black       12416\n",
            "blue         6996\n",
            "grey         5859\n",
            "brown        5772\n",
            "red          4721\n",
            "            ...  \n",
            "ebony           4\n",
            "creme           3\n",
            "avocado         3\n",
            "amethyst        2\n",
            "opal            2\n",
            "Name: item_color, Length: 77, dtype: int64\n"
          ],
          "name": "stdout"
        }
      ]
    },
    {
      "cell_type": "markdown",
      "metadata": {
        "id": "LcyGlJTIxHff"
      },
      "source": [
        "Mainly Black,Blur,grey,brown red and high value items "
      ]
    },
    {
      "cell_type": "code",
      "metadata": {
        "colab": {
          "base_uri": "https://localhost:8080/",
          "height": 314
        },
        "id": "eDUL_FaPxapw",
        "outputId": "bb04d983-a83f-4cca-f2c1-d8eb24d809e2"
      },
      "source": [
        "df1['user_title'].value_counts()\n",
        "import numpy as np\n",
        "import matplotlib.pyplot as plt\n",
        "plt.bar(df1['user_title'].value_counts().index, df1['user_title'].value_counts(), width=0.5, bottom=None, align='center', data=df1)\n",
        "plt.title('user_title Distribution')\n",
        "#plt.xticks(rotation='vertical')\n",
        "plt.xlabel('user_title')\n",
        "plt.ylabel('Frequency')\n"
      ],
      "execution_count": 17,
      "outputs": [
        {
          "output_type": "execute_result",
          "data": {
            "text/plain": [
              "Text(0, 0.5, 'Frequency')"
            ]
          },
          "metadata": {
            "tags": []
          },
          "execution_count": 17
        },
        {
          "output_type": "display_data",
          "data": {
            "image/png": "[encoded data removed]",
            "text/plain": [
              "<Figure size 432x288 with 1 Axes>"
            ]
          },
          "metadata": {
            "tags": [],
            "needs_background": "light"
          }
        }
      ]
    },
    {
      "cell_type": "code",
      "metadata": {
        "colab": {
          "base_uri": "https://localhost:8080/"
        },
        "id": "dzG-Nn1YyVOD",
        "outputId": "f4463116-7c7b-41e3-c38d-12e04177d1e0"
      },
      "source": [
        "df2['item_color'].value_counts()\n",
        "import numpy as np\n",
        "\n",
        "print('Item_Type:\\n',df2['item_color'].value_counts())"
      ],
      "execution_count": 18,
      "outputs": [
        {
          "output_type": "stream",
          "text": [
            "Item_Type:\n",
            " black           3106\n",
            "blue            1759\n",
            "grey            1464\n",
            "brown           1424\n",
            "red             1187\n",
            "                ... \n",
            "curled             1\n",
            "copper coin        1\n",
            "gold               1\n",
            "creme              1\n",
            "antique pink       1\n",
            "Name: item_color, Length: 73, dtype: int64\n"
          ],
          "name": "stdout"
        }
      ]
    },
    {
      "cell_type": "code",
      "metadata": {
        "colab": {
          "base_uri": "https://localhost:8080/",
          "height": 314
        },
        "id": "qCAA5zA6yj2x",
        "outputId": "e64b84d0-fb82-455d-ca23-6d09a0d7bbb9"
      },
      "source": [
        "df2['user_title'].value_counts()\n",
        "import numpy as np\n",
        "import matplotlib.pyplot as plt\n",
        "plt.bar(df1['user_title'].value_counts().index, df1['user_title'].value_counts(), width=0.5, bottom=None, align='center', data=df1)\n",
        "plt.title('user_title Distribution')\n",
        "#plt.xticks(rotation='vertical')\n",
        "plt.xlabel('user_title')\n",
        "plt.ylabel('Frequency')"
      ],
      "execution_count": 19,
      "outputs": [
        {
          "output_type": "execute_result",
          "data": {
            "text/plain": [
              "Text(0, 0.5, 'Frequency')"
            ]
          },
          "metadata": {
            "tags": []
          },
          "execution_count": 19
        },
        {
          "output_type": "display_data",
          "data": {
            "image/png": "[encoded data removed]",
            "text/plain": [
              "<Figure size 432x288 with 1 Axes>"
            ]
          },
          "metadata": {
            "tags": [],
            "needs_background": "light"
          }
        }
      ]
    },
    {
      "cell_type": "code",
      "metadata": {
        "colab": {
          "base_uri": "https://localhost:8080/"
        },
        "id": "QWeLlYu4ynyx",
        "outputId": "a5fe65f9-d2b2-4cb4-fb16-a287d8eaab73"
      },
      "source": [
        "df1['item_size'].value_counts()\n",
        "import numpy as np\n",
        "\n",
        "print('item_size:\\n',df1['item_size'].value_counts())"
      ],
      "execution_count": 20,
      "outputs": [
        {
          "output_type": "stream",
          "text": [
            "item_size:\n",
            " l       8214\n",
            "xl      7398\n",
            "m       6939\n",
            "xxl     6217\n",
            "40      5051\n",
            "        ... \n",
            "80         1\n",
            "3834       1\n",
            "3132       1\n",
            "84         1\n",
            "4034       1\n",
            "Name: item_size, Length: 100, dtype: int64\n"
          ],
          "name": "stdout"
        }
      ]
    },
    {
      "cell_type": "code",
      "metadata": {
        "colab": {
          "base_uri": "https://localhost:8080/"
        },
        "id": "aYGUME-Hy_0_",
        "outputId": "847402c1-aa69-47b0-ac33-c1e7c20aa40a"
      },
      "source": [
        "df2['item_size'].value_counts()\n",
        "import numpy as np\n",
        "\n",
        "print('item_size:\\n',df1['item_size'].value_counts())"
      ],
      "execution_count": 21,
      "outputs": [
        {
          "output_type": "stream",
          "text": [
            "item_size:\n",
            " l       8214\n",
            "xl      7398\n",
            "m       6939\n",
            "xxl     6217\n",
            "40      5051\n",
            "        ... \n",
            "80         1\n",
            "3834       1\n",
            "3132       1\n",
            "84         1\n",
            "4034       1\n",
            "Name: item_size, Length: 100, dtype: int64\n"
          ],
          "name": "stdout"
        }
      ]
    },
    {
      "cell_type": "code",
      "metadata": {
        "colab": {
          "base_uri": "https://localhost:8080/",
          "height": 298
        },
        "id": "px8ueBIQzD9h",
        "outputId": "a8559428-df1f-4647-b9e9-65554c74bf73"
      },
      "source": [
        "import seaborn as sns\n",
        "sns.boxplot(x='item_price',data=df1)"
      ],
      "execution_count": 22,
      "outputs": [
        {
          "output_type": "execute_result",
          "data": {
            "text/plain": [
              "<matplotlib.axes._subplots.AxesSubplot at 0x7fa3b08cee90>"
            ]
          },
          "metadata": {
            "tags": []
          },
          "execution_count": 22
        },
        {
          "output_type": "display_data",
          "data": {
            "image/png": "[encoded data removed]",
            "text/plain": [
              "<Figure size 432x288 with 1 Axes>"
            ]
          },
          "metadata": {
            "tags": [],
            "needs_background": "light"
          }
        }
      ]
    },
    {
      "cell_type": "markdown",
      "metadata": {
        "id": "tRaWbb5d0pv2"
      },
      "source": [
        "Most of the items price is less than 100 in training dataset\n",
        "\n",
        "\n"
      ]
    },
    {
      "cell_type": "code",
      "metadata": {
        "colab": {
          "base_uri": "https://localhost:8080/",
          "height": 298
        },
        "id": "YoLUr0_T0gDZ",
        "outputId": "c77d52cc-57fb-4361-a4f6-c8927cd8bf49"
      },
      "source": [
        "import seaborn as sns\n",
        "sns.boxplot(x='item_price',data=df2)"
      ],
      "execution_count": 23,
      "outputs": [
        {
          "output_type": "execute_result",
          "data": {
            "text/plain": [
              "<matplotlib.axes._subplots.AxesSubplot at 0x7fa3b08994d0>"
            ]
          },
          "metadata": {
            "tags": []
          },
          "execution_count": 23
        },
        {
          "output_type": "display_data",
          "data": {
            "image/png": "[encoded data removed]",
            "text/plain": [
              "<Figure size 432x288 with 1 Axes>"
            ]
          },
          "metadata": {
            "tags": [],
            "needs_background": "light"
          }
        }
      ]
    },
    {
      "cell_type": "markdown",
      "metadata": {
        "id": "YvyAOSF4zqTp"
      },
      "source": [
        "Most of the items price is less than 100 in test dataset"
      ]
    },
    {
      "cell_type": "code",
      "metadata": {
        "colab": {
          "base_uri": "https://localhost:8080/",
          "height": 298
        },
        "id": "Ip85p7LEzx2T",
        "outputId": "018ae609-da9a-457a-d095-6b6ba4fd8457"
      },
      "source": [
        "import seaborn as sns\n",
        "sns.boxplot(y='item_price',x=\"user_title\",data=df1)"
      ],
      "execution_count": 24,
      "outputs": [
        {
          "output_type": "execute_result",
          "data": {
            "text/plain": [
              "<matplotlib.axes._subplots.AxesSubplot at 0x7fa3b07bc5d0>"
            ]
          },
          "metadata": {
            "tags": []
          },
          "execution_count": 24
        },
        {
          "output_type": "display_data",
          "data": {
            "image/png": "[encoded data removed]",
            "text/plain": [
              "<Figure size 432x288 with 1 Axes>"
            ]
          },
          "metadata": {
            "tags": [],
            "needs_background": "light"
          }
        }
      ]
    },
    {
      "cell_type": "code",
      "metadata": {
        "colab": {
          "base_uri": "https://localhost:8080/",
          "height": 298
        },
        "id": "qBijqsTv1DQR",
        "outputId": "b6ed88a5-4148-4be0-9007-e7b6045321e2"
      },
      "source": [
        "import seaborn as sns\n",
        "sns.boxplot(y='item_price',x=\"user_title\",data=df2)"
      ],
      "execution_count": 25,
      "outputs": [
        {
          "output_type": "execute_result",
          "data": {
            "text/plain": [
              "<matplotlib.axes._subplots.AxesSubplot at 0x7fa3b071b710>"
            ]
          },
          "metadata": {
            "tags": []
          },
          "execution_count": 25
        },
        {
          "output_type": "display_data",
          "data": {
            "image/png": "[encoded data removed]",
            "text/plain": [
              "<Figure size 432x288 with 1 Axes>"
            ]
          },
          "metadata": {
            "tags": [],
            "needs_background": "light"
          }
        }
      ]
    },
    {
      "cell_type": "markdown",
      "metadata": {
        "id": "Bu-n04js1cAC"
      },
      "source": [
        "It has been observed that User tile Mr abd Family are spending more"
      ]
    },
    {
      "cell_type": "code",
      "metadata": {
        "colab": {
          "base_uri": "https://localhost:8080/",
          "height": 297
        },
        "id": "FSOFb0f71nxV",
        "outputId": "ac6bda17-28f2-41db-fb18-2dae70418d08"
      },
      "source": [
        "import seaborn as sns\n",
        "sns.boxplot(y='item_price',x=\"return\",data=df1)"
      ],
      "execution_count": 26,
      "outputs": [
        {
          "output_type": "execute_result",
          "data": {
            "text/plain": [
              "<matplotlib.axes._subplots.AxesSubplot at 0x7fa3b1018850>"
            ]
          },
          "metadata": {
            "tags": []
          },
          "execution_count": 26
        },
        {
          "output_type": "display_data",
          "data": {
            "image/png": "[encoded data removed]",
            "text/plain": [
              "<Figure size 432x288 with 1 Axes>"
            ]
          },
          "metadata": {
            "tags": [],
            "needs_background": "light"
          }
        }
      ]
    },
    {
      "cell_type": "markdown",
      "metadata": {
        "id": "bnQjDQeN141P"
      },
      "source": [
        "Items with Higher Price are getting more returns"
      ]
    },
    {
      "cell_type": "code",
      "metadata": {
        "id": "udIGZCfa1-hf"
      },
      "source": [
        "import pandas as pd\n",
        "import numpy as np\n",
        "import datetime"
      ],
      "execution_count": 27,
      "outputs": []
    },
    {
      "cell_type": "code",
      "metadata": {
        "colab": {
          "base_uri": "https://localhost:8080/",
          "height": 205
        },
        "id": "ZvNiFKyQ6uZK",
        "outputId": "c0bcd408-5743-4583-89d9-030d377aad03"
      },
      "source": [
        "df1['year'] = pd.DatetimeIndex(df1['user_dob']).year\n",
        "df1.head()"
      ],
      "execution_count": 28,
      "outputs": [
        {
          "output_type": "execute_result",
          "data": {
            "text/html": [
              "<div>\n",
              "<style scoped>\n",
              "    .dataframe tbody tr th:only-of-type {\n",
              "        vertical-align: middle;\n",
              "    }\n",
              "\n",
              "    .dataframe tbody tr th {\n",
              "        vertical-align: top;\n",
              "    }\n",
              "\n",
              "    .dataframe thead th {\n",
              "        text-align: right;\n",
              "    }\n",
              "</style>\n",
              "<table border=\"1\" class=\"dataframe\">\n",
              "  <thead>\n",
              "    <tr style=\"text-align: right;\">\n",
              "      <th></th>\n",
              "      <th>order_item_id</th>\n",
              "      <th>order_date</th>\n",
              "      <th>delivery_date</th>\n",
              "      <th>item_id</th>\n",
              "      <th>item_size</th>\n",
              "      <th>item_color</th>\n",
              "      <th>brand_id</th>\n",
              "      <th>item_price</th>\n",
              "      <th>user_id</th>\n",
              "      <th>user_title</th>\n",
              "      <th>user_dob</th>\n",
              "      <th>user_state</th>\n",
              "      <th>user_reg_date</th>\n",
              "      <th>return</th>\n",
              "      <th>year</th>\n",
              "    </tr>\n",
              "  </thead>\n",
              "  <tbody>\n",
              "    <tr>\n",
              "      <th>0</th>\n",
              "      <td>1</td>\n",
              "      <td>22-06-2016</td>\n",
              "      <td>27-06-2016</td>\n",
              "      <td>643</td>\n",
              "      <td>38</td>\n",
              "      <td>navy</td>\n",
              "      <td>30</td>\n",
              "      <td>49.9</td>\n",
              "      <td>30822</td>\n",
              "      <td>Mrs</td>\n",
              "      <td>17-04-1969</td>\n",
              "      <td>1013</td>\n",
              "      <td>23-06-2016</td>\n",
              "      <td>0</td>\n",
              "      <td>1969</td>\n",
              "    </tr>\n",
              "    <tr>\n",
              "      <th>1</th>\n",
              "      <td>10</td>\n",
              "      <td>22-06-2016</td>\n",
              "      <td>27-06-2016</td>\n",
              "      <td>195</td>\n",
              "      <td>xxl</td>\n",
              "      <td>grey</td>\n",
              "      <td>46</td>\n",
              "      <td>19.9</td>\n",
              "      <td>30823</td>\n",
              "      <td>Mrs</td>\n",
              "      <td>22-04-1970</td>\n",
              "      <td>1001</td>\n",
              "      <td>15-03-2015</td>\n",
              "      <td>1</td>\n",
              "      <td>1970</td>\n",
              "    </tr>\n",
              "    <tr>\n",
              "      <th>2</th>\n",
              "      <td>11</td>\n",
              "      <td>22-06-2016</td>\n",
              "      <td>05-07-2016</td>\n",
              "      <td>25</td>\n",
              "      <td>xxl</td>\n",
              "      <td>grey</td>\n",
              "      <td>5</td>\n",
              "      <td>79.9</td>\n",
              "      <td>30823</td>\n",
              "      <td>Mrs</td>\n",
              "      <td>22-04-1970</td>\n",
              "      <td>1001</td>\n",
              "      <td>15-03-2015</td>\n",
              "      <td>0</td>\n",
              "      <td>1970</td>\n",
              "    </tr>\n",
              "    <tr>\n",
              "      <th>3</th>\n",
              "      <td>32</td>\n",
              "      <td>23-06-2016</td>\n",
              "      <td>26-06-2016</td>\n",
              "      <td>173</td>\n",
              "      <td>m</td>\n",
              "      <td>brown</td>\n",
              "      <td>20</td>\n",
              "      <td>19.9</td>\n",
              "      <td>17234</td>\n",
              "      <td>Mrs</td>\n",
              "      <td>09-01-1960</td>\n",
              "      <td>1013</td>\n",
              "      <td>17-02-2015</td>\n",
              "      <td>0</td>\n",
              "      <td>1960</td>\n",
              "    </tr>\n",
              "    <tr>\n",
              "      <th>5</th>\n",
              "      <td>45</td>\n",
              "      <td>23-06-2016</td>\n",
              "      <td>26-06-2016</td>\n",
              "      <td>448</td>\n",
              "      <td>42</td>\n",
              "      <td>bordeaux</td>\n",
              "      <td>72</td>\n",
              "      <td>59.9</td>\n",
              "      <td>30828</td>\n",
              "      <td>Mrs</td>\n",
              "      <td>13-05-1966</td>\n",
              "      <td>1008</td>\n",
              "      <td>21-01-2016</td>\n",
              "      <td>1</td>\n",
              "      <td>1966</td>\n",
              "    </tr>\n",
              "  </tbody>\n",
              "</table>\n",
              "</div>"
            ],
            "text/plain": [
              "   order_item_id  order_date delivery_date  ...  user_reg_date return  year\n",
              "0              1  22-06-2016    27-06-2016  ...     23-06-2016      0  1969\n",
              "1             10  22-06-2016    27-06-2016  ...     15-03-2015      1  1970\n",
              "2             11  22-06-2016    05-07-2016  ...     15-03-2015      0  1970\n",
              "3             32  23-06-2016    26-06-2016  ...     17-02-2015      0  1960\n",
              "5             45  23-06-2016    26-06-2016  ...     21-01-2016      1  1966\n",
              "\n",
              "[5 rows x 15 columns]"
            ]
          },
          "metadata": {
            "tags": []
          },
          "execution_count": 28
        }
      ]
    },
    {
      "cell_type": "code",
      "metadata": {
        "colab": {
          "base_uri": "https://localhost:8080/",
          "height": 300
        },
        "id": "AnVQghS47bId",
        "outputId": "11547f4e-58e2-482a-af03-349296113c8f"
      },
      "source": [
        "sns.kdeplot(data=df1, x=\"year\")\n"
      ],
      "execution_count": 29,
      "outputs": [
        {
          "output_type": "execute_result",
          "data": {
            "text/plain": [
              "<matplotlib.axes._subplots.AxesSubplot at 0x7fa3b055e950>"
            ]
          },
          "metadata": {
            "tags": []
          },
          "execution_count": 29
        },
        {
          "output_type": "display_data",
          "data": {
            "image/png": "[encoded data removed]",
            "text/plain": [
              "<Figure size 432x288 with 1 Axes>"
            ]
          },
          "metadata": {
            "tags": [],
            "needs_background": "light"
          }
        }
      ]
    },
    {
      "cell_type": "code",
      "metadata": {
        "colab": {
          "base_uri": "https://localhost:8080/",
          "height": 205
        },
        "id": "SJ9tZfEQ8d3V",
        "outputId": "785d3141-6487-40f0-90d9-a33459384e28"
      },
      "source": [
        "df2['year'] = pd.DatetimeIndex(df2['user_dob']).year\n",
        "df2.head()"
      ],
      "execution_count": 30,
      "outputs": [
        {
          "output_type": "execute_result",
          "data": {
            "text/html": [
              "<div>\n",
              "<style scoped>\n",
              "    .dataframe tbody tr th:only-of-type {\n",
              "        vertical-align: middle;\n",
              "    }\n",
              "\n",
              "    .dataframe tbody tr th {\n",
              "        vertical-align: top;\n",
              "    }\n",
              "\n",
              "    .dataframe thead th {\n",
              "        text-align: right;\n",
              "    }\n",
              "</style>\n",
              "<table border=\"1\" class=\"dataframe\">\n",
              "  <thead>\n",
              "    <tr style=\"text-align: right;\">\n",
              "      <th></th>\n",
              "      <th>order_item_id</th>\n",
              "      <th>order_date</th>\n",
              "      <th>delivery_date</th>\n",
              "      <th>item_id</th>\n",
              "      <th>item_size</th>\n",
              "      <th>item_color</th>\n",
              "      <th>brand_id</th>\n",
              "      <th>item_price</th>\n",
              "      <th>user_id</th>\n",
              "      <th>user_title</th>\n",
              "      <th>user_dob</th>\n",
              "      <th>user_state</th>\n",
              "      <th>user_reg_date</th>\n",
              "      <th>year</th>\n",
              "    </tr>\n",
              "  </thead>\n",
              "  <tbody>\n",
              "    <tr>\n",
              "      <th>0</th>\n",
              "      <td>26</td>\n",
              "      <td>6/23/2016</td>\n",
              "      <td>6/26/2016</td>\n",
              "      <td>92</td>\n",
              "      <td>xl</td>\n",
              "      <td>turquoise</td>\n",
              "      <td>42</td>\n",
              "      <td>69.90</td>\n",
              "      <td>9392</td>\n",
              "      <td>Mrs</td>\n",
              "      <td>4/14/1962</td>\n",
              "      <td>1010</td>\n",
              "      <td>3/24/2016</td>\n",
              "      <td>1962</td>\n",
              "    </tr>\n",
              "    <tr>\n",
              "      <th>1</th>\n",
              "      <td>28</td>\n",
              "      <td>6/23/2016</td>\n",
              "      <td>7/2/2016</td>\n",
              "      <td>2</td>\n",
              "      <td>xxl</td>\n",
              "      <td>green</td>\n",
              "      <td>2</td>\n",
              "      <td>19.90</td>\n",
              "      <td>9392</td>\n",
              "      <td>Mrs</td>\n",
              "      <td>4/14/1962</td>\n",
              "      <td>1010</td>\n",
              "      <td>3/24/2016</td>\n",
              "      <td>1962</td>\n",
              "    </tr>\n",
              "    <tr>\n",
              "      <th>2</th>\n",
              "      <td>37</td>\n",
              "      <td>6/23/2016</td>\n",
              "      <td>6/26/2016</td>\n",
              "      <td>895</td>\n",
              "      <td>38</td>\n",
              "      <td>white</td>\n",
              "      <td>39</td>\n",
              "      <td>39.95</td>\n",
              "      <td>30826</td>\n",
              "      <td>Mrs</td>\n",
              "      <td>4/27/1964</td>\n",
              "      <td>1001</td>\n",
              "      <td>2/17/2015</td>\n",
              "      <td>1964</td>\n",
              "    </tr>\n",
              "    <tr>\n",
              "      <th>5</th>\n",
              "      <td>80</td>\n",
              "      <td>6/23/2016</td>\n",
              "      <td>6/26/2016</td>\n",
              "      <td>57</td>\n",
              "      <td>l</td>\n",
              "      <td>purple</td>\n",
              "      <td>3</td>\n",
              "      <td>24.90</td>\n",
              "      <td>16075</td>\n",
              "      <td>Mrs</td>\n",
              "      <td>11/3/1969</td>\n",
              "      <td>1003</td>\n",
              "      <td>11/22/2015</td>\n",
              "      <td>1969</td>\n",
              "    </tr>\n",
              "    <tr>\n",
              "      <th>6</th>\n",
              "      <td>95</td>\n",
              "      <td>6/23/2016</td>\n",
              "      <td>6/26/2016</td>\n",
              "      <td>57</td>\n",
              "      <td>xl</td>\n",
              "      <td>olive</td>\n",
              "      <td>3</td>\n",
              "      <td>34.90</td>\n",
              "      <td>17124</td>\n",
              "      <td>Mrs</td>\n",
              "      <td>3/3/1949</td>\n",
              "      <td>1015</td>\n",
              "      <td>8/2/2015</td>\n",
              "      <td>1949</td>\n",
              "    </tr>\n",
              "  </tbody>\n",
              "</table>\n",
              "</div>"
            ],
            "text/plain": [
              "   order_item_id order_date delivery_date  ...  user_state user_reg_date  year\n",
              "0             26  6/23/2016     6/26/2016  ...        1010     3/24/2016  1962\n",
              "1             28  6/23/2016      7/2/2016  ...        1010     3/24/2016  1962\n",
              "2             37  6/23/2016     6/26/2016  ...        1001     2/17/2015  1964\n",
              "5             80  6/23/2016     6/26/2016  ...        1003    11/22/2015  1969\n",
              "6             95  6/23/2016     6/26/2016  ...        1015      8/2/2015  1949\n",
              "\n",
              "[5 rows x 14 columns]"
            ]
          },
          "metadata": {
            "tags": []
          },
          "execution_count": 30
        }
      ]
    },
    {
      "cell_type": "code",
      "metadata": {
        "colab": {
          "base_uri": "https://localhost:8080/",
          "height": 297
        },
        "id": "VIJPZaFs8o2P",
        "outputId": "3cb42fb2-141f-43a7-b058-5ff5d8692228"
      },
      "source": [
        "sns.kdeplot(data=df2, x=\"year\")"
      ],
      "execution_count": 31,
      "outputs": [
        {
          "output_type": "execute_result",
          "data": {
            "text/plain": [
              "<matplotlib.axes._subplots.AxesSubplot at 0x7fa3a5cecad0>"
            ]
          },
          "metadata": {
            "tags": []
          },
          "execution_count": 31
        },
        {
          "output_type": "display_data",
          "data": {
            "image/png": "[encoded data removed]",
            "text/plain": [
              "<Figure size 432x288 with 1 Axes>"
            ]
          },
          "metadata": {
            "tags": [],
            "needs_background": "light"
          }
        }
      ]
    },
    {
      "cell_type": "markdown",
      "metadata": {
        "id": "wQqchV-n84UZ"
      },
      "source": [
        "As it can be observed the age data is quite normally distributed with some exceptions. This can be people who intentionally did not wanted to share this information. Later we can modify this field and exclude such values, or replace them with some logical ones"
      ]
    },
    {
      "cell_type": "markdown",
      "metadata": {
        "id": "BC1T3YJH9Kf9"
      },
      "source": [
        "Next it will be interesting to see if there is some seasonality in the returns."
      ]
    },
    {
      "cell_type": "code",
      "metadata": {
        "colab": {
          "base_uri": "https://localhost:8080/",
          "height": 205
        },
        "id": "iZCBle4A9K77",
        "outputId": "8d84d7f5-b127-4217-86cd-1629d60b487c"
      },
      "source": [
        "df1['month'] = pd.DatetimeIndex(df1['user_dob']).month\n",
        "df1.head()"
      ],
      "execution_count": 32,
      "outputs": [
        {
          "output_type": "execute_result",
          "data": {
            "text/html": [
              "<div>\n",
              "<style scoped>\n",
              "    .dataframe tbody tr th:only-of-type {\n",
              "        vertical-align: middle;\n",
              "    }\n",
              "\n",
              "    .dataframe tbody tr th {\n",
              "        vertical-align: top;\n",
              "    }\n",
              "\n",
              "    .dataframe thead th {\n",
              "        text-align: right;\n",
              "    }\n",
              "</style>\n",
              "<table border=\"1\" class=\"dataframe\">\n",
              "  <thead>\n",
              "    <tr style=\"text-align: right;\">\n",
              "      <th></th>\n",
              "      <th>order_item_id</th>\n",
              "      <th>order_date</th>\n",
              "      <th>delivery_date</th>\n",
              "      <th>item_id</th>\n",
              "      <th>item_size</th>\n",
              "      <th>item_color</th>\n",
              "      <th>brand_id</th>\n",
              "      <th>item_price</th>\n",
              "      <th>user_id</th>\n",
              "      <th>user_title</th>\n",
              "      <th>user_dob</th>\n",
              "      <th>user_state</th>\n",
              "      <th>user_reg_date</th>\n",
              "      <th>return</th>\n",
              "      <th>year</th>\n",
              "      <th>month</th>\n",
              "    </tr>\n",
              "  </thead>\n",
              "  <tbody>\n",
              "    <tr>\n",
              "      <th>0</th>\n",
              "      <td>1</td>\n",
              "      <td>22-06-2016</td>\n",
              "      <td>27-06-2016</td>\n",
              "      <td>643</td>\n",
              "      <td>38</td>\n",
              "      <td>navy</td>\n",
              "      <td>30</td>\n",
              "      <td>49.9</td>\n",
              "      <td>30822</td>\n",
              "      <td>Mrs</td>\n",
              "      <td>17-04-1969</td>\n",
              "      <td>1013</td>\n",
              "      <td>23-06-2016</td>\n",
              "      <td>0</td>\n",
              "      <td>1969</td>\n",
              "      <td>4</td>\n",
              "    </tr>\n",
              "    <tr>\n",
              "      <th>1</th>\n",
              "      <td>10</td>\n",
              "      <td>22-06-2016</td>\n",
              "      <td>27-06-2016</td>\n",
              "      <td>195</td>\n",
              "      <td>xxl</td>\n",
              "      <td>grey</td>\n",
              "      <td>46</td>\n",
              "      <td>19.9</td>\n",
              "      <td>30823</td>\n",
              "      <td>Mrs</td>\n",
              "      <td>22-04-1970</td>\n",
              "      <td>1001</td>\n",
              "      <td>15-03-2015</td>\n",
              "      <td>1</td>\n",
              "      <td>1970</td>\n",
              "      <td>4</td>\n",
              "    </tr>\n",
              "    <tr>\n",
              "      <th>2</th>\n",
              "      <td>11</td>\n",
              "      <td>22-06-2016</td>\n",
              "      <td>05-07-2016</td>\n",
              "      <td>25</td>\n",
              "      <td>xxl</td>\n",
              "      <td>grey</td>\n",
              "      <td>5</td>\n",
              "      <td>79.9</td>\n",
              "      <td>30823</td>\n",
              "      <td>Mrs</td>\n",
              "      <td>22-04-1970</td>\n",
              "      <td>1001</td>\n",
              "      <td>15-03-2015</td>\n",
              "      <td>0</td>\n",
              "      <td>1970</td>\n",
              "      <td>4</td>\n",
              "    </tr>\n",
              "    <tr>\n",
              "      <th>3</th>\n",
              "      <td>32</td>\n",
              "      <td>23-06-2016</td>\n",
              "      <td>26-06-2016</td>\n",
              "      <td>173</td>\n",
              "      <td>m</td>\n",
              "      <td>brown</td>\n",
              "      <td>20</td>\n",
              "      <td>19.9</td>\n",
              "      <td>17234</td>\n",
              "      <td>Mrs</td>\n",
              "      <td>09-01-1960</td>\n",
              "      <td>1013</td>\n",
              "      <td>17-02-2015</td>\n",
              "      <td>0</td>\n",
              "      <td>1960</td>\n",
              "      <td>9</td>\n",
              "    </tr>\n",
              "    <tr>\n",
              "      <th>5</th>\n",
              "      <td>45</td>\n",
              "      <td>23-06-2016</td>\n",
              "      <td>26-06-2016</td>\n",
              "      <td>448</td>\n",
              "      <td>42</td>\n",
              "      <td>bordeaux</td>\n",
              "      <td>72</td>\n",
              "      <td>59.9</td>\n",
              "      <td>30828</td>\n",
              "      <td>Mrs</td>\n",
              "      <td>13-05-1966</td>\n",
              "      <td>1008</td>\n",
              "      <td>21-01-2016</td>\n",
              "      <td>1</td>\n",
              "      <td>1966</td>\n",
              "      <td>5</td>\n",
              "    </tr>\n",
              "  </tbody>\n",
              "</table>\n",
              "</div>"
            ],
            "text/plain": [
              "   order_item_id  order_date delivery_date  ...  return  year month\n",
              "0              1  22-06-2016    27-06-2016  ...       0  1969     4\n",
              "1             10  22-06-2016    27-06-2016  ...       1  1970     4\n",
              "2             11  22-06-2016    05-07-2016  ...       0  1970     4\n",
              "3             32  23-06-2016    26-06-2016  ...       0  1960     9\n",
              "5             45  23-06-2016    26-06-2016  ...       1  1966     5\n",
              "\n",
              "[5 rows x 16 columns]"
            ]
          },
          "metadata": {
            "tags": []
          },
          "execution_count": 32
        }
      ]
    },
    {
      "cell_type": "code",
      "metadata": {
        "colab": {
          "base_uri": "https://localhost:8080/",
          "height": 205
        },
        "id": "LJPsbWdL9ely",
        "outputId": "8bd3d5ae-a881-420c-a428-6f6bca4ab281"
      },
      "source": [
        "df2['month'] = pd.DatetimeIndex(df2['user_dob']).month\n",
        "df2.head()"
      ],
      "execution_count": 33,
      "outputs": [
        {
          "output_type": "execute_result",
          "data": {
            "text/html": [
              "<div>\n",
              "<style scoped>\n",
              "    .dataframe tbody tr th:only-of-type {\n",
              "        vertical-align: middle;\n",
              "    }\n",
              "\n",
              "    .dataframe tbody tr th {\n",
              "        vertical-align: top;\n",
              "    }\n",
              "\n",
              "    .dataframe thead th {\n",
              "        text-align: right;\n",
              "    }\n",
              "</style>\n",
              "<table border=\"1\" class=\"dataframe\">\n",
              "  <thead>\n",
              "    <tr style=\"text-align: right;\">\n",
              "      <th></th>\n",
              "      <th>order_item_id</th>\n",
              "      <th>order_date</th>\n",
              "      <th>delivery_date</th>\n",
              "      <th>item_id</th>\n",
              "      <th>item_size</th>\n",
              "      <th>item_color</th>\n",
              "      <th>brand_id</th>\n",
              "      <th>item_price</th>\n",
              "      <th>user_id</th>\n",
              "      <th>user_title</th>\n",
              "      <th>user_dob</th>\n",
              "      <th>user_state</th>\n",
              "      <th>user_reg_date</th>\n",
              "      <th>year</th>\n",
              "      <th>month</th>\n",
              "    </tr>\n",
              "  </thead>\n",
              "  <tbody>\n",
              "    <tr>\n",
              "      <th>0</th>\n",
              "      <td>26</td>\n",
              "      <td>6/23/2016</td>\n",
              "      <td>6/26/2016</td>\n",
              "      <td>92</td>\n",
              "      <td>xl</td>\n",
              "      <td>turquoise</td>\n",
              "      <td>42</td>\n",
              "      <td>69.90</td>\n",
              "      <td>9392</td>\n",
              "      <td>Mrs</td>\n",
              "      <td>4/14/1962</td>\n",
              "      <td>1010</td>\n",
              "      <td>3/24/2016</td>\n",
              "      <td>1962</td>\n",
              "      <td>4</td>\n",
              "    </tr>\n",
              "    <tr>\n",
              "      <th>1</th>\n",
              "      <td>28</td>\n",
              "      <td>6/23/2016</td>\n",
              "      <td>7/2/2016</td>\n",
              "      <td>2</td>\n",
              "      <td>xxl</td>\n",
              "      <td>green</td>\n",
              "      <td>2</td>\n",
              "      <td>19.90</td>\n",
              "      <td>9392</td>\n",
              "      <td>Mrs</td>\n",
              "      <td>4/14/1962</td>\n",
              "      <td>1010</td>\n",
              "      <td>3/24/2016</td>\n",
              "      <td>1962</td>\n",
              "      <td>4</td>\n",
              "    </tr>\n",
              "    <tr>\n",
              "      <th>2</th>\n",
              "      <td>37</td>\n",
              "      <td>6/23/2016</td>\n",
              "      <td>6/26/2016</td>\n",
              "      <td>895</td>\n",
              "      <td>38</td>\n",
              "      <td>white</td>\n",
              "      <td>39</td>\n",
              "      <td>39.95</td>\n",
              "      <td>30826</td>\n",
              "      <td>Mrs</td>\n",
              "      <td>4/27/1964</td>\n",
              "      <td>1001</td>\n",
              "      <td>2/17/2015</td>\n",
              "      <td>1964</td>\n",
              "      <td>4</td>\n",
              "    </tr>\n",
              "    <tr>\n",
              "      <th>5</th>\n",
              "      <td>80</td>\n",
              "      <td>6/23/2016</td>\n",
              "      <td>6/26/2016</td>\n",
              "      <td>57</td>\n",
              "      <td>l</td>\n",
              "      <td>purple</td>\n",
              "      <td>3</td>\n",
              "      <td>24.90</td>\n",
              "      <td>16075</td>\n",
              "      <td>Mrs</td>\n",
              "      <td>11/3/1969</td>\n",
              "      <td>1003</td>\n",
              "      <td>11/22/2015</td>\n",
              "      <td>1969</td>\n",
              "      <td>11</td>\n",
              "    </tr>\n",
              "    <tr>\n",
              "      <th>6</th>\n",
              "      <td>95</td>\n",
              "      <td>6/23/2016</td>\n",
              "      <td>6/26/2016</td>\n",
              "      <td>57</td>\n",
              "      <td>xl</td>\n",
              "      <td>olive</td>\n",
              "      <td>3</td>\n",
              "      <td>34.90</td>\n",
              "      <td>17124</td>\n",
              "      <td>Mrs</td>\n",
              "      <td>3/3/1949</td>\n",
              "      <td>1015</td>\n",
              "      <td>8/2/2015</td>\n",
              "      <td>1949</td>\n",
              "      <td>3</td>\n",
              "    </tr>\n",
              "  </tbody>\n",
              "</table>\n",
              "</div>"
            ],
            "text/plain": [
              "   order_item_id order_date delivery_date  ...  user_reg_date  year month\n",
              "0             26  6/23/2016     6/26/2016  ...      3/24/2016  1962     4\n",
              "1             28  6/23/2016      7/2/2016  ...      3/24/2016  1962     4\n",
              "2             37  6/23/2016     6/26/2016  ...      2/17/2015  1964     4\n",
              "5             80  6/23/2016     6/26/2016  ...     11/22/2015  1969    11\n",
              "6             95  6/23/2016     6/26/2016  ...       8/2/2015  1949     3\n",
              "\n",
              "[5 rows x 15 columns]"
            ]
          },
          "metadata": {
            "tags": []
          },
          "execution_count": 33
        }
      ]
    },
    {
      "cell_type": "code",
      "metadata": {
        "id": "9mtqLZwJ9oaE"
      },
      "source": [
        ""
      ],
      "execution_count": 33,
      "outputs": []
    },
    {
      "cell_type": "code",
      "metadata": {
        "id": "oXnZnYj3_kbQ"
      },
      "source": [
        ""
      ],
      "execution_count": 33,
      "outputs": []
    },
    {
      "cell_type": "code",
      "metadata": {
        "id": "2XITPdoiCSC5"
      },
      "source": [
        "import csv\n",
        "import os\n",
        "import matplotlib.pyplot as plt \n",
        "import numpy as np\n",
        "from sklearn.model_selection import train_test_split\n",
        "from sklearn.linear_model import LogisticRegression\n",
        "from sklearn.preprocessing import OneHotEncoder, LabelEncoder\n",
        "from sklearn.metrics import mean_squared_error\n",
        "from sklearn.model_selection import cross_val_score\n",
        "from sklearn import preprocessing\n",
        "from math import sqrt\n",
        "import pandas as pd"
      ],
      "execution_count": 34,
      "outputs": []
    },
    {
      "cell_type": "code",
      "metadata": {
        "colab": {
          "base_uri": "https://localhost:8080/"
        },
        "id": "207ZL5mWCnbm",
        "outputId": "59af1986-9a13-4e97-f1f9-5b92fb2dbb3c"
      },
      "source": [
        "df1.dtypes"
      ],
      "execution_count": 35,
      "outputs": [
        {
          "output_type": "execute_result",
          "data": {
            "text/plain": [
              "order_item_id      int64\n",
              "order_date        object\n",
              "delivery_date     object\n",
              "item_id            int64\n",
              "item_size         object\n",
              "item_color        object\n",
              "brand_id           int64\n",
              "item_price       float64\n",
              "user_id            int64\n",
              "user_title        object\n",
              "user_dob          object\n",
              "user_state         int64\n",
              "user_reg_date     object\n",
              "return             int64\n",
              "year               int64\n",
              "month              int64\n",
              "dtype: object"
            ]
          },
          "metadata": {
            "tags": []
          },
          "execution_count": 35
        }
      ]
    },
    {
      "cell_type": "code",
      "metadata": {
        "colab": {
          "base_uri": "https://localhost:8080/"
        },
        "id": "1e2_4dwiCrnH",
        "outputId": "bb063a98-4a27-4d93-8c73-6654390e0b25"
      },
      "source": [
        "df2.dtypes"
      ],
      "execution_count": 36,
      "outputs": [
        {
          "output_type": "execute_result",
          "data": {
            "text/plain": [
              "order_item_id      int64\n",
              "order_date        object\n",
              "delivery_date     object\n",
              "item_id            int64\n",
              "item_size         object\n",
              "item_color        object\n",
              "brand_id           int64\n",
              "item_price       float64\n",
              "user_id            int64\n",
              "user_title        object\n",
              "user_dob          object\n",
              "user_state         int64\n",
              "user_reg_date     object\n",
              "year               int64\n",
              "month              int64\n",
              "dtype: object"
            ]
          },
          "metadata": {
            "tags": []
          },
          "execution_count": 36
        }
      ]
    },
    {
      "cell_type": "code",
      "metadata": {
        "id": "-IkBdgpDC02W"
      },
      "source": [
        "\n",
        "lb_make = LabelEncoder()\n",
        "df1['item_size'] = lb_make.fit_transform(df1['item_size'])\n",
        "df1['item_color'] = lb_make.fit_transform(df1['item_color'])\n",
        "df1['user_title'] = lb_make.fit_transform(df1['user_title'])\n"
      ],
      "execution_count": 37,
      "outputs": []
    },
    {
      "cell_type": "code",
      "metadata": {
        "id": "e2q-ThRbD4WE"
      },
      "source": [
        "\n",
        "df2['item_size'] = lb_make.fit_transform(df2['item_size'])\n",
        "df2['item_color'] = lb_make.fit_transform(df2['item_color'])\n",
        "df2['user_title'] = lb_make.fit_transform(df2['user_title'])"
      ],
      "execution_count": 38,
      "outputs": []
    },
    {
      "cell_type": "code",
      "metadata": {
        "colab": {
          "base_uri": "https://localhost:8080/"
        },
        "id": "Pdo4u97YFPyH",
        "outputId": "53df3708-f56a-47df-faf9-b6f9c782c7ff"
      },
      "source": [
        "df1.dtypes"
      ],
      "execution_count": 39,
      "outputs": [
        {
          "output_type": "execute_result",
          "data": {
            "text/plain": [
              "order_item_id      int64\n",
              "order_date        object\n",
              "delivery_date     object\n",
              "item_id            int64\n",
              "item_size          int64\n",
              "item_color         int64\n",
              "brand_id           int64\n",
              "item_price       float64\n",
              "user_id            int64\n",
              "user_title         int64\n",
              "user_dob          object\n",
              "user_state         int64\n",
              "user_reg_date     object\n",
              "return             int64\n",
              "year               int64\n",
              "month              int64\n",
              "dtype: object"
            ]
          },
          "metadata": {
            "tags": []
          },
          "execution_count": 39
        }
      ]
    },
    {
      "cell_type": "code",
      "metadata": {
        "id": "R6SL34jBEUn6"
      },
      "source": [
        "df1.drop(['order_date', 'delivery_date','user_reg_date','order_item_id','user_dob','year','month','user_id'], axis = 1,inplace=True)"
      ],
      "execution_count": 40,
      "outputs": []
    },
    {
      "cell_type": "code",
      "metadata": {
        "colab": {
          "base_uri": "https://localhost:8080/",
          "height": 205
        },
        "id": "mis7Kc1YF3WX",
        "outputId": "4e40d06c-7f2e-4883-f35c-44d6a0684833"
      },
      "source": [
        "df1.head()"
      ],
      "execution_count": 41,
      "outputs": [
        {
          "output_type": "execute_result",
          "data": {
            "text/html": [
              "<div>\n",
              "<style scoped>\n",
              "    .dataframe tbody tr th:only-of-type {\n",
              "        vertical-align: middle;\n",
              "    }\n",
              "\n",
              "    .dataframe tbody tr th {\n",
              "        vertical-align: top;\n",
              "    }\n",
              "\n",
              "    .dataframe thead th {\n",
              "        text-align: right;\n",
              "    }\n",
              "</style>\n",
              "<table border=\"1\" class=\"dataframe\">\n",
              "  <thead>\n",
              "    <tr style=\"text-align: right;\">\n",
              "      <th></th>\n",
              "      <th>item_id</th>\n",
              "      <th>item_size</th>\n",
              "      <th>item_color</th>\n",
              "      <th>brand_id</th>\n",
              "      <th>item_price</th>\n",
              "      <th>user_title</th>\n",
              "      <th>user_state</th>\n",
              "      <th>return</th>\n",
              "    </tr>\n",
              "  </thead>\n",
              "  <tbody>\n",
              "    <tr>\n",
              "      <th>0</th>\n",
              "      <td>643</td>\n",
              "      <td>48</td>\n",
              "      <td>60</td>\n",
              "      <td>30</td>\n",
              "      <td>49.9</td>\n",
              "      <td>3</td>\n",
              "      <td>1013</td>\n",
              "      <td>0</td>\n",
              "    </tr>\n",
              "    <tr>\n",
              "      <th>1</th>\n",
              "      <td>195</td>\n",
              "      <td>98</td>\n",
              "      <td>47</td>\n",
              "      <td>46</td>\n",
              "      <td>19.9</td>\n",
              "      <td>3</td>\n",
              "      <td>1001</td>\n",
              "      <td>1</td>\n",
              "    </tr>\n",
              "    <tr>\n",
              "      <th>2</th>\n",
              "      <td>25</td>\n",
              "      <td>98</td>\n",
              "      <td>47</td>\n",
              "      <td>5</td>\n",
              "      <td>79.9</td>\n",
              "      <td>3</td>\n",
              "      <td>1001</td>\n",
              "      <td>0</td>\n",
              "    </tr>\n",
              "    <tr>\n",
              "      <th>3</th>\n",
              "      <td>173</td>\n",
              "      <td>93</td>\n",
              "      <td>22</td>\n",
              "      <td>20</td>\n",
              "      <td>19.9</td>\n",
              "      <td>3</td>\n",
              "      <td>1013</td>\n",
              "      <td>0</td>\n",
              "    </tr>\n",
              "    <tr>\n",
              "      <th>5</th>\n",
              "      <td>448</td>\n",
              "      <td>62</td>\n",
              "      <td>21</td>\n",
              "      <td>72</td>\n",
              "      <td>59.9</td>\n",
              "      <td>3</td>\n",
              "      <td>1008</td>\n",
              "      <td>1</td>\n",
              "    </tr>\n",
              "  </tbody>\n",
              "</table>\n",
              "</div>"
            ],
            "text/plain": [
              "   item_id  item_size  item_color  ...  user_title  user_state  return\n",
              "0      643         48          60  ...           3        1013       0\n",
              "1      195         98          47  ...           3        1001       1\n",
              "2       25         98          47  ...           3        1001       0\n",
              "3      173         93          22  ...           3        1013       0\n",
              "5      448         62          21  ...           3        1008       1\n",
              "\n",
              "[5 rows x 8 columns]"
            ]
          },
          "metadata": {
            "tags": []
          },
          "execution_count": 41
        }
      ]
    },
    {
      "cell_type": "code",
      "metadata": {
        "id": "9ZlXYEoVF8ke"
      },
      "source": [
        "df2.drop(['order_date', 'delivery_date','user_reg_date','order_item_id','user_dob','year','month','user_id'], axis = 1,inplace=True)"
      ],
      "execution_count": 42,
      "outputs": []
    },
    {
      "cell_type": "code",
      "metadata": {
        "colab": {
          "base_uri": "https://localhost:8080/",
          "height": 205
        },
        "id": "tyR1HAT2G-kB",
        "outputId": "13834dad-f6ed-4ec9-d807-742fec7e4a42"
      },
      "source": [
        "df2.head()"
      ],
      "execution_count": 43,
      "outputs": [
        {
          "output_type": "execute_result",
          "data": {
            "text/html": [
              "<div>\n",
              "<style scoped>\n",
              "    .dataframe tbody tr th:only-of-type {\n",
              "        vertical-align: middle;\n",
              "    }\n",
              "\n",
              "    .dataframe tbody tr th {\n",
              "        vertical-align: top;\n",
              "    }\n",
              "\n",
              "    .dataframe thead th {\n",
              "        text-align: right;\n",
              "    }\n",
              "</style>\n",
              "<table border=\"1\" class=\"dataframe\">\n",
              "  <thead>\n",
              "    <tr style=\"text-align: right;\">\n",
              "      <th></th>\n",
              "      <th>item_id</th>\n",
              "      <th>item_size</th>\n",
              "      <th>item_color</th>\n",
              "      <th>brand_id</th>\n",
              "      <th>item_price</th>\n",
              "      <th>user_title</th>\n",
              "      <th>user_state</th>\n",
              "    </tr>\n",
              "  </thead>\n",
              "  <tbody>\n",
              "    <tr>\n",
              "      <th>0</th>\n",
              "      <td>92</td>\n",
              "      <td>88</td>\n",
              "      <td>70</td>\n",
              "      <td>42</td>\n",
              "      <td>69.90</td>\n",
              "      <td>3</td>\n",
              "      <td>1010</td>\n",
              "    </tr>\n",
              "    <tr>\n",
              "      <th>1</th>\n",
              "      <td>2</td>\n",
              "      <td>90</td>\n",
              "      <td>44</td>\n",
              "      <td>2</td>\n",
              "      <td>19.90</td>\n",
              "      <td>3</td>\n",
              "      <td>1010</td>\n",
              "    </tr>\n",
              "    <tr>\n",
              "      <th>2</th>\n",
              "      <td>895</td>\n",
              "      <td>43</td>\n",
              "      <td>71</td>\n",
              "      <td>39</td>\n",
              "      <td>39.95</td>\n",
              "      <td>3</td>\n",
              "      <td>1001</td>\n",
              "    </tr>\n",
              "    <tr>\n",
              "      <th>5</th>\n",
              "      <td>57</td>\n",
              "      <td>84</td>\n",
              "      <td>65</td>\n",
              "      <td>3</td>\n",
              "      <td>24.90</td>\n",
              "      <td>3</td>\n",
              "      <td>1003</td>\n",
              "    </tr>\n",
              "    <tr>\n",
              "      <th>6</th>\n",
              "      <td>57</td>\n",
              "      <td>88</td>\n",
              "      <td>60</td>\n",
              "      <td>3</td>\n",
              "      <td>34.90</td>\n",
              "      <td>3</td>\n",
              "      <td>1015</td>\n",
              "    </tr>\n",
              "  </tbody>\n",
              "</table>\n",
              "</div>"
            ],
            "text/plain": [
              "   item_id  item_size  item_color  brand_id  item_price  user_title  user_state\n",
              "0       92         88          70        42       69.90           3        1010\n",
              "1        2         90          44         2       19.90           3        1010\n",
              "2      895         43          71        39       39.95           3        1001\n",
              "5       57         84          65         3       24.90           3        1003\n",
              "6       57         88          60         3       34.90           3        1015"
            ]
          },
          "metadata": {
            "tags": []
          },
          "execution_count": 43
        }
      ]
    },
    {
      "cell_type": "code",
      "metadata": {
        "colab": {
          "base_uri": "https://localhost:8080/"
        },
        "id": "Owl1KuuIHBY5",
        "outputId": "2f50498b-d452-4b66-a736-adcbbed4af7a"
      },
      "source": [
        "df1.dtypes"
      ],
      "execution_count": 46,
      "outputs": [
        {
          "output_type": "execute_result",
          "data": {
            "text/plain": [
              "item_id         int64\n",
              "item_size       int64\n",
              "item_color      int64\n",
              "brand_id        int64\n",
              "item_price    float64\n",
              "user_title      int64\n",
              "user_state      int64\n",
              "return          int64\n",
              "dtype: object"
            ]
          },
          "metadata": {
            "tags": []
          },
          "execution_count": 46
        }
      ]
    },
    {
      "cell_type": "code",
      "metadata": {
        "colab": {
          "base_uri": "https://localhost:8080/"
        },
        "id": "9WNtMJ9sHFO6",
        "outputId": "a97c3509-a673-4731-f029-84fb354fea30"
      },
      "source": [
        "df2.dtypes"
      ],
      "execution_count": 47,
      "outputs": [
        {
          "output_type": "execute_result",
          "data": {
            "text/plain": [
              "item_id         int64\n",
              "item_size       int64\n",
              "item_color      int64\n",
              "brand_id        int64\n",
              "item_price    float64\n",
              "user_title      int64\n",
              "user_state      int64\n",
              "dtype: object"
            ]
          },
          "metadata": {
            "tags": []
          },
          "execution_count": 47
        }
      ]
    },
    {
      "cell_type": "code",
      "metadata": {
        "id": "6dpYKGm9HNHp"
      },
      "source": [
        "x=df1.drop(['return'],axis=1)\n",
        "y=df1['return']\n",
        "x_test=df2"
      ],
      "execution_count": 48,
      "outputs": []
    },
    {
      "cell_type": "code",
      "metadata": {
        "id": "yydnLR36H68Y"
      },
      "source": [
        "#Feature Scaling\n",
        "from sklearn.preprocessing import StandardScaler\n",
        "sc_x=StandardScaler()\n",
        "x=sc_x.fit_transform(x)\n",
        "\n",
        "x_test=sc_x.fit_transform(x_test)"
      ],
      "execution_count": 49,
      "outputs": []
    },
    {
      "cell_type": "code",
      "metadata": {
        "id": "K4ZWCqcKH-kX"
      },
      "source": [
        "from sklearn.model_selection import train_test_split\n",
        "x_train, x_test, y_train, y_test=train_test_split(x,y,test_size=0.1,random_state=42)"
      ],
      "execution_count": 67,
      "outputs": []
    },
    {
      "cell_type": "code",
      "metadata": {
        "colab": {
          "base_uri": "https://localhost:8080/"
        },
        "id": "iqFKXtxFTGsB",
        "outputId": "880cb1bd-07f1-41f8-ae84-fc79e2b64963"
      },
      "source": [
        "x_train"
      ],
      "execution_count": 69,
      "outputs": [
        {
          "output_type": "execute_result",
          "data": {
            "text/plain": [
              "array([[ 1.18515959, -0.74171034, -0.82307752, ...,  2.80410939,\n",
              "         0.18180362, -1.23476495],\n",
              "       [-1.20797371, -1.10770615, -0.82307752, ...,  0.09328349,\n",
              "         0.18180362, -0.06702645],\n",
              "       [-0.09127325, -1.10770615, -0.73332476, ...,  0.30180856,\n",
              "         0.18180362, -0.53412185],\n",
              "       ...,\n",
              "       [ 0.8286141 ,  0.72227293,  0.38858474, ..., -0.80337431,\n",
              "         0.18180362, -0.06702645],\n",
              "       [-1.05394606,  0.72227293, -0.1948082 , ..., -0.63655426,\n",
              "         0.18180362, -0.76766955],\n",
              "       [ 1.0810483 , -1.10770615,  1.37586509, ...,  1.76148405,\n",
              "         0.18180362,  0.63361666]])"
            ]
          },
          "metadata": {
            "tags": []
          },
          "execution_count": 69
        }
      ]
    },
    {
      "cell_type": "code",
      "metadata": {
        "colab": {
          "base_uri": "https://localhost:8080/"
        },
        "id": "Cp3wA7J2TNlm",
        "outputId": "fec919d8-03a3-487b-c4e1-2e5ff3778464"
      },
      "source": [
        "y_train"
      ],
      "execution_count": 70,
      "outputs": [
        {
          "output_type": "execute_result",
          "data": {
            "text/plain": [
              "17425    1\n",
              "10708    1\n",
              "4388     1\n",
              "63833    0\n",
              "6434     0\n",
              "        ..\n",
              "45188    1\n",
              "7688     1\n",
              "66511    0\n",
              "1101     0\n",
              "19119    0\n",
              "Name: return, Length: 59545, dtype: int64"
            ]
          },
          "metadata": {
            "tags": []
          },
          "execution_count": 70
        }
      ]
    },
    {
      "cell_type": "code",
      "metadata": {
        "colab": {
          "base_uri": "https://localhost:8080/"
        },
        "id": "RJVxIovRTTpB",
        "outputId": "95fcff8a-0336-409c-8d20-364266f34150"
      },
      "source": [
        "x_test"
      ],
      "execution_count": 71,
      "outputs": [
        {
          "output_type": "execute_result",
          "data": {
            "text/plain": [
              "array([[ 0.34941697, -1.10770615, -0.91283028, ...,  0.7188587 ,\n",
              "         0.18180362, -0.06702645],\n",
              "       [ 0.99975593, -0.92470825,  0.34370836, ..., -0.53229172,\n",
              "         0.18180362, -0.06702645],\n",
              "       [ 1.18515959, -0.92470825, -0.77820114, ...,  2.80410939,\n",
              "         0.18180362, -1.46831266],\n",
              "       ...,\n",
              "       [ 0.74019082,  0.76802241, -1.04745942, ..., -0.53229172,\n",
              "         0.18180362, -1.23476495],\n",
              "       [ 1.11812903, -0.92470825, -0.91283028, ...,  1.55295898,\n",
              "         0.18180362,  0.63361666],\n",
              "       [-1.00830824, -0.74171034, -0.82307752, ..., -0.74081679,\n",
              "         0.18180362,  0.63361666]])"
            ]
          },
          "metadata": {
            "tags": []
          },
          "execution_count": 71
        }
      ]
    },
    {
      "cell_type": "markdown",
      "metadata": {
        "id": "Pd4mN_tkTcZv"
      },
      "source": [
        "Applying PCA"
      ]
    },
    {
      "cell_type": "code",
      "metadata": {
        "id": "2vQ2LGE2Te6a"
      },
      "source": [
        "# Applying PCA\n",
        "from sklearn.decomposition import PCA\n",
        "pca = PCA(n_components = 2)\n",
        "x_train = pca.fit_transform(x_train)\n",
        "x_test = pca.fit_transform(x_test)\n",
        "explained_variance = pca.explained_variance_ratio_"
      ],
      "execution_count": 73,
      "outputs": []
    },
    {
      "cell_type": "markdown",
      "metadata": {
        "id": "w7-weD6tII4-"
      },
      "source": [
        "Classification Algorithms"
      ]
    },
    {
      "cell_type": "markdown",
      "metadata": {
        "id": "V0z7O3VCSEqT"
      },
      "source": [
        "Logistic Regression"
      ]
    },
    {
      "cell_type": "code",
      "metadata": {
        "colab": {
          "base_uri": "https://localhost:8080/"
        },
        "id": "Envh0Eb8Rq0i",
        "outputId": "413cb90d-13b5-4ed3-aae2-bac44f2f4373"
      },
      "source": [
        "# Fitting Logistic Regression to the Training set\n",
        "from sklearn.linear_model import LogisticRegression\n",
        "classifier = LogisticRegression(random_state = 0)\n",
        "classifier.fit(x_train, y_train)"
      ],
      "execution_count": 74,
      "outputs": [
        {
          "output_type": "execute_result",
          "data": {
            "text/plain": [
              "LogisticRegression(C=1.0, class_weight=None, dual=False, fit_intercept=True,\n",
              "                   intercept_scaling=1, l1_ratio=None, max_iter=100,\n",
              "                   multi_class='auto', n_jobs=None, penalty='l2',\n",
              "                   random_state=0, solver='lbfgs', tol=0.0001, verbose=0,\n",
              "                   warm_start=False)"
            ]
          },
          "metadata": {
            "tags": []
          },
          "execution_count": 74
        }
      ]
    },
    {
      "cell_type": "code",
      "metadata": {
        "id": "8efWu7W-Rq2g"
      },
      "source": [
        "# Predicting the Test set results\n",
        "y_pred = classifier.predict(x_test)"
      ],
      "execution_count": 75,
      "outputs": []
    },
    {
      "cell_type": "code",
      "metadata": {
        "colab": {
          "base_uri": "https://localhost:8080/"
        },
        "id": "gZu2JD7BRq5O",
        "outputId": "0e8cd1e8-0f20-4137-9103-a0904db3158a"
      },
      "source": [
        "y_pred"
      ],
      "execution_count": 76,
      "outputs": [
        {
          "output_type": "execute_result",
          "data": {
            "text/plain": [
              "array([1, 1, 1, ..., 1, 1, 1])"
            ]
          },
          "metadata": {
            "tags": []
          },
          "execution_count": 76
        }
      ]
    },
    {
      "cell_type": "code",
      "metadata": {
        "colab": {
          "base_uri": "https://localhost:8080/"
        },
        "id": "pSMwjIzjRq80",
        "outputId": "300de0b4-7d6e-467e-c805-fa37ee6d5e91"
      },
      "source": [
        "# Measuring Accuracy\n",
        "from sklearn import metrics\n",
        "print('The accuracy of Logistic Regression is: ', metrics.accuracy_score(y_pred, y_test))"
      ],
      "execution_count": 77,
      "outputs": [
        {
          "output_type": "stream",
          "text": [
            "The accuracy of Logistic Regression is:  0.5410306785552366\n"
          ],
          "name": "stdout"
        }
      ]
    },
    {
      "cell_type": "code",
      "metadata": {
        "id": "ctQDnit5T1Rq"
      },
      "source": [
        "# Making the Confusion Matrix\n",
        "from sklearn.metrics import confusion_matrix\n",
        "cm = confusion_matrix(y_test, y_pred)"
      ],
      "execution_count": 78,
      "outputs": []
    },
    {
      "cell_type": "code",
      "metadata": {
        "colab": {
          "base_uri": "https://localhost:8080/"
        },
        "id": "gVI1ZrDJT48g",
        "outputId": "97f25f1c-6181-4dde-d245-557493ad1835"
      },
      "source": [
        "cm"
      ],
      "execution_count": 79,
      "outputs": [
        {
          "output_type": "execute_result",
          "data": {
            "text/plain": [
              "array([[1763, 1536],\n",
              "       [1501, 1817]])"
            ]
          },
          "metadata": {
            "tags": []
          },
          "execution_count": 79
        }
      ]
    },
    {
      "cell_type": "markdown",
      "metadata": {
        "id": "INv1wCviU7ej"
      },
      "source": [
        "K-NN"
      ]
    },
    {
      "cell_type": "code",
      "metadata": {
        "colab": {
          "base_uri": "https://localhost:8080/"
        },
        "id": "JkHtmPAxI57g",
        "outputId": "52efefea-a184-40bc-8a67-3c394e4db33f"
      },
      "source": [
        "# Fitting K-NN to the Training set\n",
        "from sklearn.neighbors import KNeighborsClassifier\n",
        "classifier = KNeighborsClassifier(n_neighbors = 5, metric = 'minkowski', p = 2)\n",
        "classifier.fit(x_train, y_train)"
      ],
      "execution_count": 83,
      "outputs": [
        {
          "output_type": "execute_result",
          "data": {
            "text/plain": [
              "KNeighborsClassifier(algorithm='auto', leaf_size=30, metric='minkowski',\n",
              "                     metric_params=None, n_jobs=None, n_neighbors=5, p=2,\n",
              "                     weights='uniform')"
            ]
          },
          "metadata": {
            "tags": []
          },
          "execution_count": 83
        }
      ]
    },
    {
      "cell_type": "code",
      "metadata": {
        "id": "NTzYCNEWVFIQ"
      },
      "source": [
        "# Predicting the Test set results\n",
        "y_pred = classifier.predict(x_test)"
      ],
      "execution_count": 85,
      "outputs": []
    },
    {
      "cell_type": "code",
      "metadata": {
        "colab": {
          "base_uri": "https://localhost:8080/"
        },
        "id": "14AaUJIMVGok",
        "outputId": "292f5a20-eebf-434f-ab36-0b9246ab7629"
      },
      "source": [
        "y_pred"
      ],
      "execution_count": 86,
      "outputs": [
        {
          "output_type": "execute_result",
          "data": {
            "text/plain": [
              "array([0, 1, 1, ..., 0, 0, 1])"
            ]
          },
          "metadata": {
            "tags": []
          },
          "execution_count": 86
        }
      ]
    },
    {
      "cell_type": "code",
      "metadata": {
        "colab": {
          "base_uri": "https://localhost:8080/"
        },
        "id": "BljZkjixVLvC",
        "outputId": "8d29c2f7-01ea-4712-9b3d-9d4ecee68819"
      },
      "source": [
        "# Measuring Accuracy\n",
        "from sklearn import metrics\n",
        "print('The accuracy of KNN is: ', metrics.accuracy_score(y_pred, y_test))"
      ],
      "execution_count": 88,
      "outputs": [
        {
          "output_type": "stream",
          "text": [
            "The accuracy of KNN is:  0.5195708024784645\n"
          ],
          "name": "stdout"
        }
      ]
    },
    {
      "cell_type": "code",
      "metadata": {
        "colab": {
          "base_uri": "https://localhost:8080/"
        },
        "id": "ABAjS_JZVOk2",
        "outputId": "8ec1f996-deb2-46e7-f671-b6b3b0559d59"
      },
      "source": [
        "# Making confusion matrix\n",
        "from sklearn.metrics import confusion_matrix\n",
        "print(confusion_matrix(y_test, y_pred))"
      ],
      "execution_count": 89,
      "outputs": [
        {
          "output_type": "stream",
          "text": [
            "[[1690 1609]\n",
            " [1570 1748]]\n"
          ],
          "name": "stdout"
        }
      ]
    },
    {
      "cell_type": "markdown",
      "metadata": {
        "id": "VsVLOOMFWuzw"
      },
      "source": [
        "SVM"
      ]
    },
    {
      "cell_type": "code",
      "metadata": {
        "colab": {
          "base_uri": "https://localhost:8080/"
        },
        "id": "fU7FyPZNW0w8",
        "outputId": "189933e8-9446-4646-cb86-dfc75b15612e"
      },
      "source": [
        "# Fitting SVM to the Training set\n",
        "from sklearn.svm import SVC\n",
        "classifier = SVC(kernel = 'linear', random_state = 0)\n",
        "classifier.fit(x_train, y_train)"
      ],
      "execution_count": 95,
      "outputs": [
        {
          "output_type": "execute_result",
          "data": {
            "text/plain": [
              "SVC(C=1.0, break_ties=False, cache_size=200, class_weight=None, coef0=0.0,\n",
              "    decision_function_shape='ovr', degree=3, gamma='scale', kernel='linear',\n",
              "    max_iter=-1, probability=False, random_state=0, shrinking=True, tol=0.001,\n",
              "    verbose=False)"
            ]
          },
          "metadata": {
            "tags": []
          },
          "execution_count": 95
        }
      ]
    },
    {
      "cell_type": "code",
      "metadata": {
        "id": "7kPkhrstW28U"
      },
      "source": [
        "# Predicting the Test set results\n",
        "y_pred = classifier.predict(x_test)"
      ],
      "execution_count": 96,
      "outputs": []
    },
    {
      "cell_type": "code",
      "metadata": {
        "colab": {
          "base_uri": "https://localhost:8080/"
        },
        "id": "0g56FahpXWM6",
        "outputId": "c4a62778-7090-4b82-a4c0-9af1fb0bc717"
      },
      "source": [
        "y_pred"
      ],
      "execution_count": 97,
      "outputs": [
        {
          "output_type": "execute_result",
          "data": {
            "text/plain": [
              "array([1, 1, 1, ..., 0, 1, 0])"
            ]
          },
          "metadata": {
            "tags": []
          },
          "execution_count": 97
        }
      ]
    },
    {
      "cell_type": "code",
      "metadata": {
        "colab": {
          "base_uri": "https://localhost:8080/"
        },
        "id": "nNj0NqZXXZxk",
        "outputId": "fc9981ab-4ca9-48f1-bc04-13419ab8dec1"
      },
      "source": [
        "# Measuring Accuracy\n",
        "from sklearn import metrics\n",
        "print('The accuracy of SVM is: ', metrics.accuracy_score(y_pred, y_test))"
      ],
      "execution_count": 98,
      "outputs": [
        {
          "output_type": "stream",
          "text": [
            "The accuracy of SVM is:  0.5371014054707571\n"
          ],
          "name": "stdout"
        }
      ]
    },
    {
      "cell_type": "code",
      "metadata": {
        "colab": {
          "base_uri": "https://localhost:8080/"
        },
        "id": "QKde6gAlXeVZ",
        "outputId": "a6db4200-0825-4444-f97f-0d571be11788"
      },
      "source": [
        "# Making confusion matrix\n",
        "from sklearn.metrics import confusion_matrix\n",
        "print(confusion_matrix(y_test, y_pred))"
      ],
      "execution_count": 99,
      "outputs": [
        {
          "output_type": "stream",
          "text": [
            "[[2124 1175]\n",
            " [1888 1430]]\n"
          ],
          "name": "stdout"
        }
      ]
    },
    {
      "cell_type": "markdown",
      "metadata": {
        "id": "tMm2elMiXot2"
      },
      "source": [
        "Decision Tree Classification"
      ]
    },
    {
      "cell_type": "code",
      "metadata": {
        "colab": {
          "base_uri": "https://localhost:8080/"
        },
        "id": "eIG-mPFmXq6O",
        "outputId": "2411041b-e836-4255-a06d-ddc622b19f0f"
      },
      "source": [
        "# Fitting Decision Tree Classification to the Training set\n",
        "from sklearn.tree import DecisionTreeClassifier\n",
        "classifier = DecisionTreeClassifier(criterion = 'entropy', random_state = 0)\n",
        "classifier.fit(x_train, y_train)"
      ],
      "execution_count": 100,
      "outputs": [
        {
          "output_type": "execute_result",
          "data": {
            "text/plain": [
              "DecisionTreeClassifier(ccp_alpha=0.0, class_weight=None, criterion='entropy',\n",
              "                       max_depth=None, max_features=None, max_leaf_nodes=None,\n",
              "                       min_impurity_decrease=0.0, min_impurity_split=None,\n",
              "                       min_samples_leaf=1, min_samples_split=2,\n",
              "                       min_weight_fraction_leaf=0.0, presort='deprecated',\n",
              "                       random_state=0, splitter='best')"
            ]
          },
          "metadata": {
            "tags": []
          },
          "execution_count": 100
        }
      ]
    },
    {
      "cell_type": "code",
      "metadata": {
        "colab": {
          "base_uri": "https://localhost:8080/"
        },
        "id": "vM0FWoK5XvUq",
        "outputId": "97778b8e-b4ed-4b5f-a5dd-cd7128857aef"
      },
      "source": [
        "# Predicting the Test set results\n",
        "y_pred = classifier.predict(x_test)\n",
        "y_pred"
      ],
      "execution_count": 101,
      "outputs": [
        {
          "output_type": "execute_result",
          "data": {
            "text/plain": [
              "array([0, 1, 1, ..., 0, 1, 1])"
            ]
          },
          "metadata": {
            "tags": []
          },
          "execution_count": 101
        }
      ]
    },
    {
      "cell_type": "code",
      "metadata": {
        "colab": {
          "base_uri": "https://localhost:8080/"
        },
        "id": "ZSDr5bxcXydp",
        "outputId": "5d78bbd2-0de9-4311-9d2f-bc4957a6cf6e"
      },
      "source": [
        "# Measuring Accuracy\n",
        "from sklearn import metrics\n",
        "print('The accuracy of Decision Tree Classifier is: ', metrics.accuracy_score(y_pred, y_test))"
      ],
      "execution_count": 102,
      "outputs": [
        {
          "output_type": "stream",
          "text": [
            "The accuracy of Decision Tree Classifier is:  0.5174550400483603\n"
          ],
          "name": "stdout"
        }
      ]
    },
    {
      "cell_type": "code",
      "metadata": {
        "colab": {
          "base_uri": "https://localhost:8080/"
        },
        "id": "odX8kSqTX1ik",
        "outputId": "969a81fd-ba93-4c57-a675-1c17980fb1f8"
      },
      "source": [
        "# Making confusion matrix\n",
        "from sklearn.metrics import confusion_matrix\n",
        "print(confusion_matrix(y_test, y_pred))"
      ],
      "execution_count": 103,
      "outputs": [
        {
          "output_type": "stream",
          "text": [
            "[[1820 1479]\n",
            " [1714 1604]]\n"
          ],
          "name": "stdout"
        }
      ]
    },
    {
      "cell_type": "markdown",
      "metadata": {
        "id": "9UGFsEtGX6xv"
      },
      "source": [
        "Random Forest Classification"
      ]
    },
    {
      "cell_type": "code",
      "metadata": {
        "colab": {
          "base_uri": "https://localhost:8080/"
        },
        "id": "pfYrOD6iX86s",
        "outputId": "0a22a354-bf5e-4122-d9c5-9855244ee7cf"
      },
      "source": [
        "# Fitting Random Forest Classification to the Training set\n",
        "from sklearn.ensemble import RandomForestClassifier\n",
        "classifier = RandomForestClassifier(n_estimators = 10, criterion = 'entropy', random_state = 0)\n",
        "classifier.fit(x_train, y_train)"
      ],
      "execution_count": 104,
      "outputs": [
        {
          "output_type": "execute_result",
          "data": {
            "text/plain": [
              "RandomForestClassifier(bootstrap=True, ccp_alpha=0.0, class_weight=None,\n",
              "                       criterion='entropy', max_depth=None, max_features='auto',\n",
              "                       max_leaf_nodes=None, max_samples=None,\n",
              "                       min_impurity_decrease=0.0, min_impurity_split=None,\n",
              "                       min_samples_leaf=1, min_samples_split=2,\n",
              "                       min_weight_fraction_leaf=0.0, n_estimators=10,\n",
              "                       n_jobs=None, oob_score=False, random_state=0, verbose=0,\n",
              "                       warm_start=False)"
            ]
          },
          "metadata": {
            "tags": []
          },
          "execution_count": 104
        }
      ]
    },
    {
      "cell_type": "code",
      "metadata": {
        "colab": {
          "base_uri": "https://localhost:8080/"
        },
        "id": "b_O00ttrYBmM",
        "outputId": "26519085-c3cf-4e9f-a7e1-9a788e1b3f29"
      },
      "source": [
        "# Predicting the Test set results\n",
        "y_pred = classifier.predict(x_test)\n",
        "y_pred"
      ],
      "execution_count": 105,
      "outputs": [
        {
          "output_type": "execute_result",
          "data": {
            "text/plain": [
              "array([0, 1, 0, ..., 0, 1, 1])"
            ]
          },
          "metadata": {
            "tags": []
          },
          "execution_count": 105
        }
      ]
    },
    {
      "cell_type": "code",
      "metadata": {
        "colab": {
          "base_uri": "https://localhost:8080/"
        },
        "id": "sEjMXLngYFsf",
        "outputId": "5137090a-81c0-4842-f083-7216e911040f"
      },
      "source": [
        "\n",
        "# Measuring Accuracy\n",
        "from sklearn import metrics\n",
        "print('The accuracy of Random Forest Classification is: ', metrics.accuracy_score(y_pred, y_test))"
      ],
      "execution_count": 106,
      "outputs": [
        {
          "output_type": "stream",
          "text": [
            "The accuracy of Random Forest Classification is:  0.523500075562944\n"
          ],
          "name": "stdout"
        }
      ]
    },
    {
      "cell_type": "code",
      "metadata": {
        "colab": {
          "base_uri": "https://localhost:8080/"
        },
        "id": "5kbTWnFcYI9P",
        "outputId": "13184791-9e74-4b4d-ba0b-599f052c0f9e"
      },
      "source": [
        "# Making confusion matrix\n",
        "from sklearn.metrics import confusion_matrix\n",
        "print(confusion_matrix(y_test, y_pred))"
      ],
      "execution_count": 107,
      "outputs": [
        {
          "output_type": "stream",
          "text": [
            "[[1841 1458]\n",
            " [1695 1623]]\n"
          ],
          "name": "stdout"
        }
      ]
    },
    {
      "cell_type": "markdown",
      "metadata": {
        "id": "qD2Y055_YQzR"
      },
      "source": [
        "Results"
      ]
    },
    {
      "cell_type": "markdown",
      "metadata": {
        "id": "Yzi5cqJtYYBa"
      },
      "source": [
        "The accuracy of Logistic Regression is: 54.1 %\n",
        "\n",
        "The accuracy of KNN is: 51.95 %\n",
        "\n",
        "The accuracy of SVM is: 53.71 %\n",
        "\n",
        "The accuracy of Decision Tree Classifier is: 51.74 %\n",
        "\n",
        "The accuracy of Random Forest Classification is: 52.35 %"
      ]
    },
    {
      "cell_type": "code",
      "metadata": {
        "id": "0lXe2OBRY3gD"
      },
      "source": [
        ""
      ],
      "execution_count": null,
      "outputs": []
    }
  ]
}